{
 "cells": [
  {
   "cell_type": "code",
   "execution_count": 6,
   "metadata": {},
   "outputs": [],
   "source": [
    "from automatic_generation import execute_generation"
   ]
  },
  {
   "cell_type": "markdown",
   "metadata": {},
   "source": [
    "## SADD Generation from UN Population Data"
   ]
  },
  {
   "cell_type": "markdown",
   "metadata": {},
   "source": [
    "In order to use this notebook, please enter all the age labels for which you would like to extract the Sex and Age Disaggregated Data (SADD), as well as the output file name.\n",
    "\n",
    "\n",
    "For example: `age_labels = ['0+','0-1','0-4','0-17', '5-11', '5-14', '12-14','12-16', '15-17', '15-24', '25-64', '65+']`"
   ]
  },
  {
   "cell_type": "code",
   "execution_count": null,
   "metadata": {},
   "outputs": [],
   "source": [
    "age_labels = ...\n",
    "file_name = ..."
   ]
  },
  {
   "cell_type": "markdown",
   "metadata": {},
   "source": [
    "Now, you can simply run the following cell to launch the SADD Generation (note that this can take a few seconds)."
   ]
  },
  {
   "cell_type": "code",
   "execution_count": null,
   "metadata": {},
   "outputs": [],
   "source": [
    "execute_generation(age_labels, file_name)"
   ]
  },
  {
   "cell_type": "markdown",
   "metadata": {},
   "source": [
    "Your data was generated! You can now download it."
   ]
  }
 ],
 "metadata": {
  "interpreter": {
   "hash": "5ebc56669a1093bb84f51a44c910ad7ce3c8c5dd41fb0cb069a788d84c88625e"
  },
  "kernelspec": {
   "display_name": "Python 3 (ipykernel)",
   "language": "python",
   "name": "python3"
  },
  "language_info": {
   "codemirror_mode": {
    "name": "ipython",
    "version": 3
   },
   "file_extension": ".py",
   "mimetype": "text/x-python",
   "name": "python",
   "nbconvert_exporter": "python",
   "pygments_lexer": "ipython3",
   "version": "3.7.4"
  }
 },
 "nbformat": 4,
 "nbformat_minor": 2
}
